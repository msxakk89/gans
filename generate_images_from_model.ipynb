{
 "cells": [
  {
   "cell_type": "markdown",
   "id": "6a36a44e-888c-4635-a623-bbfe9c4e47e8",
   "metadata": {},
   "source": [
    "# Generate images from model\n",
    "\n",
    "To read the GAN's Generator make sure you use the correct name of the folder that stores the models (and path as well if you're not working in the Docker container)"
   ]
  },
  {
   "cell_type": "code",
   "execution_count": null,
   "id": "52268783-b2e8-4ef3-b314-a38ea468e056",
   "metadata": {},
   "outputs": [],
   "source": [
    "from keras.models import load_model, model_from_json\n",
    "import numpy as np\n",
    "import matplotlib.pyplot as plt\n",
    "\n",
    "p = \"/home/jovyan/work/gans/MODELS_FOLDER_NAME\"\n",
    "\n",
    "# load json and create model\n",
    "json_file = open(p+\"/generator.json\", 'r')\n",
    "loaded_model_json = json_file.read()\n",
    "json_file.close()\n",
    "loaded_model = model_from_json(loaded_model_json)\n",
    "\n",
    "# load weights into new model\n",
    "loaded_model.load_weights(p+'/generator.h5')"
   ]
  },
  {
   "cell_type": "markdown",
   "id": "4e223a55-e7bd-446c-9978-1b79dc6496af",
   "metadata": {},
   "source": [
    "Below, make sure to use the same latent_dim as the one used during GAN training. Re-running the cell will yield a different Generator output. "
   ]
  },
  {
   "cell_type": "code",
   "execution_count": null,
   "id": "5b948d6c-3c68-40f5-853d-68a8c33702f1",
   "metadata": {},
   "outputs": [],
   "source": [
    "latent_dim = 100\n",
    "noise = np.random.normal(0, 1, (10, latent_dim))\n",
    "gen_imgs = loaded_model.predict(noise)\n",
    "plt.imshow(gen_imgs[0], cmap='gray')"
   ]
  }
 ],
 "metadata": {
  "kernelspec": {
   "display_name": "Python 3 (ipykernel)",
   "language": "python",
   "name": "python3"
  },
  "language_info": {
   "codemirror_mode": {
    "name": "ipython",
    "version": 3
   },
   "file_extension": ".py",
   "mimetype": "text/x-python",
   "name": "python",
   "nbconvert_exporter": "python",
   "pygments_lexer": "ipython3",
   "version": "3.9.12"
  }
 },
 "nbformat": 4,
 "nbformat_minor": 5
}
